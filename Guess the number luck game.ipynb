{
 "cells": [
  {
   "cell_type": "code",
   "execution_count": 4,
   "id": "23ef4db4",
   "metadata": {},
   "outputs": [
    {
     "name": "stdout",
     "output_type": "stream",
     "text": [
      "guess the number3\n",
      "guess the number7\n",
      "guess the number1\n",
      "Your guess is incorrect the number is 8\n"
     ]
    }
   ],
   "source": [
    "import random\n",
    "number = random.randint(1,10)\n",
    "for i in range(0,3):\n",
    "    user = int(input(\"guess the number\"))\n",
    "    if user == number:\n",
    "        print(\"Hurray!!")\n",
    "        print(f\"you guessed the number right it's {number}\")\n",
    "        break\n",
    "if user != number:\n",
    "    print(f\"Your guess is incorrect the number is {number}\")"
   ]
  },
  {
   "cell_type": "markdown",
   "id": "398f2899",
   "metadata": {},
   "source": []
  },
  {
   "cell_type": "code",
   "execution_count": null,
   "id": "477aa285",
   "metadata": {},
   "outputs": [],
   "source": []
  }
 ],
 "metadata": {
  "kernelspec": {
   "display_name": "Python 3 (ipykernel)",
   "language": "python",
   "name": "python3"
  },
  "language_info": {
   "codemirror_mode": {
    "name": "ipython",
    "version": 3
   },
   "file_extension": ".py",
   "mimetype": "text/x-python",
   "name": "python",
   "nbconvert_exporter": "python",
   "pygments_lexer": "ipython3",
   "version": "3.11.0"
  }
 },
 "nbformat": 4,
 "nbformat_minor": 5
}
