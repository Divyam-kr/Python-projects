{
 "cells": [
  {
   "cell_type": "code",
   "execution_count": 5,
   "id": "8d975e2c",
   "metadata": {},
   "outputs": [
    {
     "name": "stdout",
     "output_type": "stream",
     "text": [
      " \n",
      "\n",
      "\n",
      "1. Roll the dice             2. Exit     \n",
      "what you want to do\n",
      "1\n",
      "the number is  4\n",
      " \n",
      "\n",
      "\n",
      "1. Roll the dice             2. Exit     \n",
      "what you want to do\n",
      "1\n",
      "the number is  2\n",
      " \n",
      "\n",
      "\n",
      "1. Roll the dice             2. Exit     \n",
      "what you want to do\n",
      "2\n"
     ]
    }
   ],
   "source": [
    "import random \n",
    "while True:     \n",
    "     print(''' \\n\\n\\n1. Roll the dice             2. Exit     ''')    \n",
    "     user = int(input(\"what you want to do\\n\"))     \n",
    "     if user==1:         \n",
    "        number = random.randint(1,6)         \n",
    "        print(\"the number is \",number)     \n",
    "     else:         \n",
    "        break"
   ]
  },
  {
   "cell_type": "code",
   "execution_count": 6,
   "id": "2a0aeeca",
   "metadata": {},
   "outputs": [
    {
     "name": "stdout",
     "output_type": "stream",
     "text": [
      " \n",
      "\n",
      "\n",
      "1. Toss the coin             2. Exit     \n",
      "what you want to do\n",
      "1\n",
      "It is Heads\n",
      " \n",
      "\n",
      "\n",
      "1. Toss the coin             2. Exit     \n",
      "what you want to do\n",
      "1\n",
      "It is Heads\n",
      " \n",
      "\n",
      "\n",
      "1. Toss the coin             2. Exit     \n",
      "what you want to do\n",
      "1\n",
      "It is Heads\n",
      " \n",
      "\n",
      "\n",
      "1. Toss the coin             2. Exit     \n",
      "what you want to do\n",
      "1\n",
      "It is Tails\n",
      " \n",
      "\n",
      "\n",
      "1. Toss the coin             2. Exit     \n",
      "what you want to do\n",
      "2\n"
     ]
    }
   ],
   "source": [
    "import random \n",
    "while True:     \n",
    "     print(''' \\n\\n\\n1. Toss the coin             2. Exit     ''')    \n",
    "     user = int(input(\"what you want to do\\n\"))     \n",
    "     if user==1:         \n",
    "        number = random.randint(1,2)\n",
    "        if number==1:\n",
    "            print(\"It is Heads\") \n",
    "        if number==2:\n",
    "            print(\"It is Tails\") \n",
    "            \n",
    "        \n",
    "        \n",
    "     else:         \n",
    "        break"
   ]
  },
  {
   "cell_type": "code",
   "execution_count": null,
   "id": "57bb0cdf",
   "metadata": {},
   "outputs": [],
   "source": []
  }
 ],
 "metadata": {
  "kernelspec": {
   "display_name": "Python 3 (ipykernel)",
   "language": "python",
   "name": "python3"
  },
  "language_info": {
   "codemirror_mode": {
    "name": "ipython",
    "version": 3
   },
   "file_extension": ".py",
   "mimetype": "text/x-python",
   "name": "python",
   "nbconvert_exporter": "python",
   "pygments_lexer": "ipython3",
   "version": "3.11.0"
  }
 },
 "nbformat": 4,
 "nbformat_minor": 5
}
